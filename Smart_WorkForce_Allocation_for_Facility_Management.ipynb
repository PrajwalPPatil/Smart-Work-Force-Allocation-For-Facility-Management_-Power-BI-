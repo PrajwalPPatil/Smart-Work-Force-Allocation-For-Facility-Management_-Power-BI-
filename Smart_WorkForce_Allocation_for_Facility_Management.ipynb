{
  "nbformat": 4,
  "nbformat_minor": 0,
  "metadata": {
    "colab": {
      "provenance": [],
      "include_colab_link": true
    },
    "kernelspec": {
      "name": "python3",
      "display_name": "Python 3"
    },
    "language_info": {
      "name": "python"
    }
  },
  "cells": [
    {
      "cell_type": "markdown",
      "metadata": {
        "id": "view-in-github",
        "colab_type": "text"
      },
      "source": [
        "<a href=\"https://colab.research.google.com/github/PrajwalPPatil/Smart-Work-Force-Allocation-For-Facility-Management_-Power-BI-/blob/main/Smart_WorkForce_Allocation_for_Facility_Management.ipynb\" target=\"_parent\"><img src=\"https://colab.research.google.com/assets/colab-badge.svg\" alt=\"Open In Colab\"/></a>"
      ]
    },
    {
      "cell_type": "markdown",
      "source": [
        "**Smart WorkForce Allocation For Facility Management**"
      ],
      "metadata": {
        "id": "pVBVxNH2SUkD"
      }
    },
    {
      "cell_type": "code",
      "source": [
        "# Load the uploaded dataset to inspect its structure and prepare for further analysis\n",
        "import pandas as pd\n",
        "\n",
        "# Load the dataset\n",
        "df = pd.read_excel(\"/content/simulated_facility_workforce_data.xlsx\")\n",
        "\n",
        "# Display basic info and first few rows\n",
        "df.info(), df.head()"
      ],
      "metadata": {
        "colab": {
          "base_uri": "https://localhost:8080/"
        },
        "id": "q-4ddqoXSfDc",
        "outputId": "cd7943cd-7130-4958-f10e-14729ca1ca67"
      },
      "execution_count": null,
      "outputs": [
        {
          "output_type": "stream",
          "name": "stdout",
          "text": [
            "<class 'pandas.core.frame.DataFrame'>\n",
            "RangeIndex: 2307 entries, 0 to 2306\n",
            "Data columns (total 8 columns):\n",
            " #   Column                Non-Null Count  Dtype         \n",
            "---  ------                --------------  -----         \n",
            " 0   Date                  2307 non-null   datetime64[ns]\n",
            " 1   Employee_ID           2307 non-null   int64         \n",
            " 2   Shift_Start           2307 non-null   object        \n",
            " 3   Shift_End             2307 non-null   object        \n",
            " 4   Location              2307 non-null   object        \n",
            " 5   Skill_Level           2307 non-null   object        \n",
            " 6   Job_Role              2307 non-null   object        \n",
            " 7   Workload_Demand_Site  2307 non-null   int64         \n",
            "dtypes: datetime64[ns](1), int64(2), object(5)\n",
            "memory usage: 144.3+ KB\n"
          ]
        },
        {
          "output_type": "execute_result",
          "data": {
            "text/plain": [
              "(None,\n",
              "         Date  Employee_ID Shift_Start Shift_End Location Skill_Level  \\\n",
              " 0 2025-01-01           45    14:00:00  22:00:00   Site A       Basic   \n",
              " 1 2025-01-01           34    06:00:00  14:00:00   Site A    Advanced   \n",
              " 2 2025-01-01           30    14:00:00  22:00:00   Site A       Basic   \n",
              " 3 2025-01-01          100    22:00:00  06:00:00   Site A       Basic   \n",
              " 4 2025-01-01           70    06:00:00  14:00:00   Site A    Advanced   \n",
              " \n",
              "      Job_Role  Workload_Demand_Site  \n",
              " 0     Cleaner                     8  \n",
              " 1     Cleaner                     8  \n",
              " 2     Cleaner                     8  \n",
              " 3  Supervisor                     8  \n",
              " 4  Technician                     8  )"
            ]
          },
          "metadata": {},
          "execution_count": 1
        }
      ]
    },
    {
      "cell_type": "code",
      "source": [
        "# Check data shape\n",
        "df.shape"
      ],
      "metadata": {
        "colab": {
          "base_uri": "https://localhost:8080/"
        },
        "id": "28Ba0S9-S_2z",
        "outputId": "3a9dcafc-6c68-4650-dcf8-10a46f09da03"
      },
      "execution_count": null,
      "outputs": [
        {
          "output_type": "execute_result",
          "data": {
            "text/plain": [
              "(2307, 8)"
            ]
          },
          "metadata": {},
          "execution_count": 2
        }
      ]
    },
    {
      "cell_type": "code",
      "source": [
        "# Check data columns\n",
        "df.columns"
      ],
      "metadata": {
        "colab": {
          "base_uri": "https://localhost:8080/"
        },
        "id": "a1GGtCaRTEYF",
        "outputId": "90b245ef-c040-4bc6-926f-dfd9a7418143"
      },
      "execution_count": null,
      "outputs": [
        {
          "output_type": "execute_result",
          "data": {
            "text/plain": [
              "Index(['Date', 'Employee_ID', 'Shift_Start', 'Shift_End', 'Location',\n",
              "       'Skill_Level', 'Job_Role', 'Workload_Demand_Site'],\n",
              "      dtype='object')"
            ]
          },
          "metadata": {},
          "execution_count": 3
        }
      ]
    },
    {
      "cell_type": "code",
      "source": [
        "df['Location'].value_counts()"
      ],
      "metadata": {
        "colab": {
          "base_uri": "https://localhost:8080/",
          "height": 241
        },
        "id": "LsADh8T9Ee0Y",
        "outputId": "ac3d323f-b507-41c1-9d14-6aca0007debd"
      },
      "execution_count": null,
      "outputs": [
        {
          "output_type": "execute_result",
          "data": {
            "text/plain": [
              "Location\n",
              "Site A    613\n",
              "Site D    604\n",
              "Site C    568\n",
              "Site B    522\n",
              "Name: count, dtype: int64"
            ],
            "text/html": [
              "<div>\n",
              "<style scoped>\n",
              "    .dataframe tbody tr th:only-of-type {\n",
              "        vertical-align: middle;\n",
              "    }\n",
              "\n",
              "    .dataframe tbody tr th {\n",
              "        vertical-align: top;\n",
              "    }\n",
              "\n",
              "    .dataframe thead th {\n",
              "        text-align: right;\n",
              "    }\n",
              "</style>\n",
              "<table border=\"1\" class=\"dataframe\">\n",
              "  <thead>\n",
              "    <tr style=\"text-align: right;\">\n",
              "      <th></th>\n",
              "      <th>count</th>\n",
              "    </tr>\n",
              "    <tr>\n",
              "      <th>Location</th>\n",
              "      <th></th>\n",
              "    </tr>\n",
              "  </thead>\n",
              "  <tbody>\n",
              "    <tr>\n",
              "      <th>Site A</th>\n",
              "      <td>613</td>\n",
              "    </tr>\n",
              "    <tr>\n",
              "      <th>Site D</th>\n",
              "      <td>604</td>\n",
              "    </tr>\n",
              "    <tr>\n",
              "      <th>Site C</th>\n",
              "      <td>568</td>\n",
              "    </tr>\n",
              "    <tr>\n",
              "      <th>Site B</th>\n",
              "      <td>522</td>\n",
              "    </tr>\n",
              "  </tbody>\n",
              "</table>\n",
              "</div><br><label><b>dtype:</b> int64</label>"
            ]
          },
          "metadata": {},
          "execution_count": 13
        }
      ]
    },
    {
      "cell_type": "code",
      "source": [
        "df['Skill_Level'].value_counts()"
      ],
      "metadata": {
        "colab": {
          "base_uri": "https://localhost:8080/",
          "height": 209
        },
        "id": "jBBd_d_AE3tS",
        "outputId": "bcf5775b-06c2-4c52-fa32-eb02a0ba9a50"
      },
      "execution_count": null,
      "outputs": [
        {
          "output_type": "execute_result",
          "data": {
            "text/plain": [
              "Skill_Level\n",
              "Basic           1270\n",
              "Intermediate     639\n",
              "Advanced         398\n",
              "Name: count, dtype: int64"
            ],
            "text/html": [
              "<div>\n",
              "<style scoped>\n",
              "    .dataframe tbody tr th:only-of-type {\n",
              "        vertical-align: middle;\n",
              "    }\n",
              "\n",
              "    .dataframe tbody tr th {\n",
              "        vertical-align: top;\n",
              "    }\n",
              "\n",
              "    .dataframe thead th {\n",
              "        text-align: right;\n",
              "    }\n",
              "</style>\n",
              "<table border=\"1\" class=\"dataframe\">\n",
              "  <thead>\n",
              "    <tr style=\"text-align: right;\">\n",
              "      <th></th>\n",
              "      <th>count</th>\n",
              "    </tr>\n",
              "    <tr>\n",
              "      <th>Skill_Level</th>\n",
              "      <th></th>\n",
              "    </tr>\n",
              "  </thead>\n",
              "  <tbody>\n",
              "    <tr>\n",
              "      <th>Basic</th>\n",
              "      <td>1270</td>\n",
              "    </tr>\n",
              "    <tr>\n",
              "      <th>Intermediate</th>\n",
              "      <td>639</td>\n",
              "    </tr>\n",
              "    <tr>\n",
              "      <th>Advanced</th>\n",
              "      <td>398</td>\n",
              "    </tr>\n",
              "  </tbody>\n",
              "</table>\n",
              "</div><br><label><b>dtype:</b> int64</label>"
            ]
          },
          "metadata": {},
          "execution_count": 14
        }
      ]
    },
    {
      "cell_type": "code",
      "source": [
        "df['Job_Role'].value_counts()"
      ],
      "metadata": {
        "colab": {
          "base_uri": "https://localhost:8080/",
          "height": 209
        },
        "id": "IxqA3CQiE32A",
        "outputId": "697439df-9e20-40b5-b013-63e7a710aba5"
      },
      "execution_count": null,
      "outputs": [
        {
          "output_type": "execute_result",
          "data": {
            "text/plain": [
              "Job_Role\n",
              "Cleaner       816\n",
              "Supervisor    785\n",
              "Technician    706\n",
              "Name: count, dtype: int64"
            ],
            "text/html": [
              "<div>\n",
              "<style scoped>\n",
              "    .dataframe tbody tr th:only-of-type {\n",
              "        vertical-align: middle;\n",
              "    }\n",
              "\n",
              "    .dataframe tbody tr th {\n",
              "        vertical-align: top;\n",
              "    }\n",
              "\n",
              "    .dataframe thead th {\n",
              "        text-align: right;\n",
              "    }\n",
              "</style>\n",
              "<table border=\"1\" class=\"dataframe\">\n",
              "  <thead>\n",
              "    <tr style=\"text-align: right;\">\n",
              "      <th></th>\n",
              "      <th>count</th>\n",
              "    </tr>\n",
              "    <tr>\n",
              "      <th>Job_Role</th>\n",
              "      <th></th>\n",
              "    </tr>\n",
              "  </thead>\n",
              "  <tbody>\n",
              "    <tr>\n",
              "      <th>Cleaner</th>\n",
              "      <td>816</td>\n",
              "    </tr>\n",
              "    <tr>\n",
              "      <th>Supervisor</th>\n",
              "      <td>785</td>\n",
              "    </tr>\n",
              "    <tr>\n",
              "      <th>Technician</th>\n",
              "      <td>706</td>\n",
              "    </tr>\n",
              "  </tbody>\n",
              "</table>\n",
              "</div><br><label><b>dtype:</b> int64</label>"
            ]
          },
          "metadata": {},
          "execution_count": 15
        }
      ]
    },
    {
      "cell_type": "code",
      "source": [
        "# Check Missing_values\n",
        "missing_values=df.isnull().sum()\n",
        "print(\"\\nMissing values in each column:\")\n",
        "print(missing_values)"
      ],
      "metadata": {
        "colab": {
          "base_uri": "https://localhost:8080/"
        },
        "id": "7bCAJ9daFE0q",
        "outputId": "53e197b5-2c18-4f60-b30a-b5f5f0584731"
      },
      "execution_count": null,
      "outputs": [
        {
          "output_type": "stream",
          "name": "stdout",
          "text": [
            "\n",
            "Missing values in each column:\n",
            "Date                    0\n",
            "Employee_ID             0\n",
            "Shift_Start             0\n",
            "Shift_End               0\n",
            "Location                0\n",
            "Skill_Level             0\n",
            "Job_Role                0\n",
            "Workload_Demand_Site    0\n",
            "dtype: int64\n"
          ]
        }
      ]
    },
    {
      "cell_type": "markdown",
      "source": [
        "✅ Data-Driven Optimization of Manpower Deployment\n"
      ],
      "metadata": {
        "id": "HTltVwbATmwN"
      }
    },
    {
      "cell_type": "code",
      "source": [
        "#Use pandas to analyze deployment across sites and shifts:\n",
        "import pandas as pd\n",
        "\n",
        "# Load your dataset\n",
        "df = pd.read_excel('/content/simulated_facility_workforce_data.xlsx')\n",
        "df['Date'] = pd.to_datetime(df['Date'])\n",
        "\n",
        "# Manpower per site and shift\n",
        "deployment_summary = df.groupby(['Date', 'Location', 'Shift_Start', 'Shift_End']).agg({\n",
        "    'Employee_ID': 'count',\n",
        "    'Workload_Demand_Site': 'first'\n",
        "}).reset_index().rename(columns={'Employee_ID': 'Assigned_Employees'})\n",
        "\n",
        "deployment_summary['Staffing_Gap'] = deployment_summary['Assigned_Employees'] - deployment_summary['Workload_Demand_Site']"
      ],
      "metadata": {
        "id": "dvhlh3mdTIU4"
      },
      "execution_count": null,
      "outputs": []
    },
    {
      "cell_type": "markdown",
      "source": [
        "✅ Identify Overstaffing/Understaffing Patterns"
      ],
      "metadata": {
        "id": "4uGHenIVTus9"
      }
    },
    {
      "cell_type": "code",
      "source": [
        "# Identify patterns\n",
        "over_under_stats = deployment_summary.groupby('Location')['Staffing_Gap'].agg(['mean', 'std', 'min', 'max'])\n",
        "\n",
        "# Highlight problem days\n",
        "problem_days = deployment_summary[deployment_summary['Staffing_Gap'].abs() > 2]"
      ],
      "metadata": {
        "id": "paC78VsbTs24"
      },
      "execution_count": null,
      "outputs": []
    },
    {
      "cell_type": "markdown",
      "source": [
        "✅ Predictive Model for Staff Requirements"
      ],
      "metadata": {
        "id": "dmY1MZEkT15q"
      }
    },
    {
      "cell_type": "code",
      "source": [
        "# We'll use date + location features to forecast required staffing levels.\n",
        "from sklearn.linear_model import LinearRegression\n",
        "from sklearn.model_selection import train_test_split\n",
        "\n",
        "# Feature engineering\n",
        "deployment_summary['DayOfWeek'] = deployment_summary['Date'].dt.dayofweek\n",
        "deployment_summary['Month'] = deployment_summary['Date'].dt.month\n",
        "deployment_encoded = pd.get_dummies(deployment_summary, columns=['Location'])\n",
        "\n",
        "X = deployment_encoded[['DayOfWeek', 'Month'] + [col for col in deployment_encoded.columns if col.startswith('Location_')]]\n",
        "y = deployment_encoded['Workload_Demand_Site']\n",
        "\n",
        "# Train/test split\n",
        "X_train, X_test, y_train, y_test = train_test_split(X, y, random_state=42)\n",
        "\n",
        "# Model\n",
        "model = LinearRegression()\n",
        "model.fit(X_train, y_train)\n",
        "deployment_summary['Predicted_Demand'] = model.predict(X)\n",
        "\n",
        "# Save predictions\n",
        "deployment_summary.to_csv('/content/predicted_staff_demand.csv', index=False)"
      ],
      "metadata": {
        "id": "vH-sJkzyTwiL"
      },
      "execution_count": null,
      "outputs": []
    },
    {
      "cell_type": "markdown",
      "source": [
        "✅ Optimized Shift Allocation Recommendation"
      ],
      "metadata": {
        "id": "5KqkLkG9UGeK"
      }
    },
    {
      "cell_type": "code",
      "source": [
        "# Identify days with surplus staff and suggest reallocation:\n",
        "# Example: reassign overstaffed employees to understaffed locations on same day\n",
        "shift_balance = deployment_summary.pivot_table(index='Date', columns='Location', values='Staffing_Gap', aggfunc='sum').fillna(0)\n",
        "\n",
        "# Suggest improvements\n",
        "suggestions = shift_balance.apply(lambda row: 'Redistribute' if row.max() > 2 and row.min() < -2 else 'OK', axis=1)\n",
        "redistribution_days = shift_balance[suggestions == 'Redistribute']"
      ],
      "metadata": {
        "id": "mR_y4uMWT3jk"
      },
      "execution_count": null,
      "outputs": []
    },
    {
      "cell_type": "code",
      "source": [
        "# Check First Five Rows\n",
        "df.head()"
      ],
      "metadata": {
        "id": "AaPT79E5VPkA",
        "colab": {
          "base_uri": "https://localhost:8080/",
          "height": 206
        },
        "outputId": "432153c8-0cf0-4c87-842d-5d80ed3a0ed6"
      },
      "execution_count": null,
      "outputs": [
        {
          "output_type": "execute_result",
          "data": {
            "text/plain": [
              "        Date  Employee_ID Shift_Start Shift_End Location Skill_Level  \\\n",
              "0 2025-01-01           45    14:00:00  22:00:00   Site A       Basic   \n",
              "1 2025-01-01           34    06:00:00  14:00:00   Site A    Advanced   \n",
              "2 2025-01-01           30    14:00:00  22:00:00   Site A       Basic   \n",
              "3 2025-01-01          100    22:00:00  06:00:00   Site A       Basic   \n",
              "4 2025-01-01           70    06:00:00  14:00:00   Site A    Advanced   \n",
              "\n",
              "     Job_Role  Workload_Demand_Site  \n",
              "0     Cleaner                     8  \n",
              "1     Cleaner                     8  \n",
              "2     Cleaner                     8  \n",
              "3  Supervisor                     8  \n",
              "4  Technician                     8  "
            ],
            "text/html": [
              "\n",
              "  <div id=\"df-1b47a94e-6aac-450d-bfbd-d261d26a830d\" class=\"colab-df-container\">\n",
              "    <div>\n",
              "<style scoped>\n",
              "    .dataframe tbody tr th:only-of-type {\n",
              "        vertical-align: middle;\n",
              "    }\n",
              "\n",
              "    .dataframe tbody tr th {\n",
              "        vertical-align: top;\n",
              "    }\n",
              "\n",
              "    .dataframe thead th {\n",
              "        text-align: right;\n",
              "    }\n",
              "</style>\n",
              "<table border=\"1\" class=\"dataframe\">\n",
              "  <thead>\n",
              "    <tr style=\"text-align: right;\">\n",
              "      <th></th>\n",
              "      <th>Date</th>\n",
              "      <th>Employee_ID</th>\n",
              "      <th>Shift_Start</th>\n",
              "      <th>Shift_End</th>\n",
              "      <th>Location</th>\n",
              "      <th>Skill_Level</th>\n",
              "      <th>Job_Role</th>\n",
              "      <th>Workload_Demand_Site</th>\n",
              "    </tr>\n",
              "  </thead>\n",
              "  <tbody>\n",
              "    <tr>\n",
              "      <th>0</th>\n",
              "      <td>2025-01-01</td>\n",
              "      <td>45</td>\n",
              "      <td>14:00:00</td>\n",
              "      <td>22:00:00</td>\n",
              "      <td>Site A</td>\n",
              "      <td>Basic</td>\n",
              "      <td>Cleaner</td>\n",
              "      <td>8</td>\n",
              "    </tr>\n",
              "    <tr>\n",
              "      <th>1</th>\n",
              "      <td>2025-01-01</td>\n",
              "      <td>34</td>\n",
              "      <td>06:00:00</td>\n",
              "      <td>14:00:00</td>\n",
              "      <td>Site A</td>\n",
              "      <td>Advanced</td>\n",
              "      <td>Cleaner</td>\n",
              "      <td>8</td>\n",
              "    </tr>\n",
              "    <tr>\n",
              "      <th>2</th>\n",
              "      <td>2025-01-01</td>\n",
              "      <td>30</td>\n",
              "      <td>14:00:00</td>\n",
              "      <td>22:00:00</td>\n",
              "      <td>Site A</td>\n",
              "      <td>Basic</td>\n",
              "      <td>Cleaner</td>\n",
              "      <td>8</td>\n",
              "    </tr>\n",
              "    <tr>\n",
              "      <th>3</th>\n",
              "      <td>2025-01-01</td>\n",
              "      <td>100</td>\n",
              "      <td>22:00:00</td>\n",
              "      <td>06:00:00</td>\n",
              "      <td>Site A</td>\n",
              "      <td>Basic</td>\n",
              "      <td>Supervisor</td>\n",
              "      <td>8</td>\n",
              "    </tr>\n",
              "    <tr>\n",
              "      <th>4</th>\n",
              "      <td>2025-01-01</td>\n",
              "      <td>70</td>\n",
              "      <td>06:00:00</td>\n",
              "      <td>14:00:00</td>\n",
              "      <td>Site A</td>\n",
              "      <td>Advanced</td>\n",
              "      <td>Technician</td>\n",
              "      <td>8</td>\n",
              "    </tr>\n",
              "  </tbody>\n",
              "</table>\n",
              "</div>\n",
              "    <div class=\"colab-df-buttons\">\n",
              "\n",
              "  <div class=\"colab-df-container\">\n",
              "    <button class=\"colab-df-convert\" onclick=\"convertToInteractive('df-1b47a94e-6aac-450d-bfbd-d261d26a830d')\"\n",
              "            title=\"Convert this dataframe to an interactive table.\"\n",
              "            style=\"display:none;\">\n",
              "\n",
              "  <svg xmlns=\"http://www.w3.org/2000/svg\" height=\"24px\" viewBox=\"0 -960 960 960\">\n",
              "    <path d=\"M120-120v-720h720v720H120Zm60-500h600v-160H180v160Zm220 220h160v-160H400v160Zm0 220h160v-160H400v160ZM180-400h160v-160H180v160Zm440 0h160v-160H620v160ZM180-180h160v-160H180v160Zm440 0h160v-160H620v160Z\"/>\n",
              "  </svg>\n",
              "    </button>\n",
              "\n",
              "  <style>\n",
              "    .colab-df-container {\n",
              "      display:flex;\n",
              "      gap: 12px;\n",
              "    }\n",
              "\n",
              "    .colab-df-convert {\n",
              "      background-color: #E8F0FE;\n",
              "      border: none;\n",
              "      border-radius: 50%;\n",
              "      cursor: pointer;\n",
              "      display: none;\n",
              "      fill: #1967D2;\n",
              "      height: 32px;\n",
              "      padding: 0 0 0 0;\n",
              "      width: 32px;\n",
              "    }\n",
              "\n",
              "    .colab-df-convert:hover {\n",
              "      background-color: #E2EBFA;\n",
              "      box-shadow: 0px 1px 2px rgba(60, 64, 67, 0.3), 0px 1px 3px 1px rgba(60, 64, 67, 0.15);\n",
              "      fill: #174EA6;\n",
              "    }\n",
              "\n",
              "    .colab-df-buttons div {\n",
              "      margin-bottom: 4px;\n",
              "    }\n",
              "\n",
              "    [theme=dark] .colab-df-convert {\n",
              "      background-color: #3B4455;\n",
              "      fill: #D2E3FC;\n",
              "    }\n",
              "\n",
              "    [theme=dark] .colab-df-convert:hover {\n",
              "      background-color: #434B5C;\n",
              "      box-shadow: 0px 1px 3px 1px rgba(0, 0, 0, 0.15);\n",
              "      filter: drop-shadow(0px 1px 2px rgba(0, 0, 0, 0.3));\n",
              "      fill: #FFFFFF;\n",
              "    }\n",
              "  </style>\n",
              "\n",
              "    <script>\n",
              "      const buttonEl =\n",
              "        document.querySelector('#df-1b47a94e-6aac-450d-bfbd-d261d26a830d button.colab-df-convert');\n",
              "      buttonEl.style.display =\n",
              "        google.colab.kernel.accessAllowed ? 'block' : 'none';\n",
              "\n",
              "      async function convertToInteractive(key) {\n",
              "        const element = document.querySelector('#df-1b47a94e-6aac-450d-bfbd-d261d26a830d');\n",
              "        const dataTable =\n",
              "          await google.colab.kernel.invokeFunction('convertToInteractive',\n",
              "                                                    [key], {});\n",
              "        if (!dataTable) return;\n",
              "\n",
              "        const docLinkHtml = 'Like what you see? Visit the ' +\n",
              "          '<a target=\"_blank\" href=https://colab.research.google.com/notebooks/data_table.ipynb>data table notebook</a>'\n",
              "          + ' to learn more about interactive tables.';\n",
              "        element.innerHTML = '';\n",
              "        dataTable['output_type'] = 'display_data';\n",
              "        await google.colab.output.renderOutput(dataTable, element);\n",
              "        const docLink = document.createElement('div');\n",
              "        docLink.innerHTML = docLinkHtml;\n",
              "        element.appendChild(docLink);\n",
              "      }\n",
              "    </script>\n",
              "  </div>\n",
              "\n",
              "\n",
              "    <div id=\"df-431e031f-5cb6-407d-8cf3-bfbf523833da\">\n",
              "      <button class=\"colab-df-quickchart\" onclick=\"quickchart('df-431e031f-5cb6-407d-8cf3-bfbf523833da')\"\n",
              "                title=\"Suggest charts\"\n",
              "                style=\"display:none;\">\n",
              "\n",
              "<svg xmlns=\"http://www.w3.org/2000/svg\" height=\"24px\"viewBox=\"0 0 24 24\"\n",
              "     width=\"24px\">\n",
              "    <g>\n",
              "        <path d=\"M19 3H5c-1.1 0-2 .9-2 2v14c0 1.1.9 2 2 2h14c1.1 0 2-.9 2-2V5c0-1.1-.9-2-2-2zM9 17H7v-7h2v7zm4 0h-2V7h2v10zm4 0h-2v-4h2v4z\"/>\n",
              "    </g>\n",
              "</svg>\n",
              "      </button>\n",
              "\n",
              "<style>\n",
              "  .colab-df-quickchart {\n",
              "      --bg-color: #E8F0FE;\n",
              "      --fill-color: #1967D2;\n",
              "      --hover-bg-color: #E2EBFA;\n",
              "      --hover-fill-color: #174EA6;\n",
              "      --disabled-fill-color: #AAA;\n",
              "      --disabled-bg-color: #DDD;\n",
              "  }\n",
              "\n",
              "  [theme=dark] .colab-df-quickchart {\n",
              "      --bg-color: #3B4455;\n",
              "      --fill-color: #D2E3FC;\n",
              "      --hover-bg-color: #434B5C;\n",
              "      --hover-fill-color: #FFFFFF;\n",
              "      --disabled-bg-color: #3B4455;\n",
              "      --disabled-fill-color: #666;\n",
              "  }\n",
              "\n",
              "  .colab-df-quickchart {\n",
              "    background-color: var(--bg-color);\n",
              "    border: none;\n",
              "    border-radius: 50%;\n",
              "    cursor: pointer;\n",
              "    display: none;\n",
              "    fill: var(--fill-color);\n",
              "    height: 32px;\n",
              "    padding: 0;\n",
              "    width: 32px;\n",
              "  }\n",
              "\n",
              "  .colab-df-quickchart:hover {\n",
              "    background-color: var(--hover-bg-color);\n",
              "    box-shadow: 0 1px 2px rgba(60, 64, 67, 0.3), 0 1px 3px 1px rgba(60, 64, 67, 0.15);\n",
              "    fill: var(--button-hover-fill-color);\n",
              "  }\n",
              "\n",
              "  .colab-df-quickchart-complete:disabled,\n",
              "  .colab-df-quickchart-complete:disabled:hover {\n",
              "    background-color: var(--disabled-bg-color);\n",
              "    fill: var(--disabled-fill-color);\n",
              "    box-shadow: none;\n",
              "  }\n",
              "\n",
              "  .colab-df-spinner {\n",
              "    border: 2px solid var(--fill-color);\n",
              "    border-color: transparent;\n",
              "    border-bottom-color: var(--fill-color);\n",
              "    animation:\n",
              "      spin 1s steps(1) infinite;\n",
              "  }\n",
              "\n",
              "  @keyframes spin {\n",
              "    0% {\n",
              "      border-color: transparent;\n",
              "      border-bottom-color: var(--fill-color);\n",
              "      border-left-color: var(--fill-color);\n",
              "    }\n",
              "    20% {\n",
              "      border-color: transparent;\n",
              "      border-left-color: var(--fill-color);\n",
              "      border-top-color: var(--fill-color);\n",
              "    }\n",
              "    30% {\n",
              "      border-color: transparent;\n",
              "      border-left-color: var(--fill-color);\n",
              "      border-top-color: var(--fill-color);\n",
              "      border-right-color: var(--fill-color);\n",
              "    }\n",
              "    40% {\n",
              "      border-color: transparent;\n",
              "      border-right-color: var(--fill-color);\n",
              "      border-top-color: var(--fill-color);\n",
              "    }\n",
              "    60% {\n",
              "      border-color: transparent;\n",
              "      border-right-color: var(--fill-color);\n",
              "    }\n",
              "    80% {\n",
              "      border-color: transparent;\n",
              "      border-right-color: var(--fill-color);\n",
              "      border-bottom-color: var(--fill-color);\n",
              "    }\n",
              "    90% {\n",
              "      border-color: transparent;\n",
              "      border-bottom-color: var(--fill-color);\n",
              "    }\n",
              "  }\n",
              "</style>\n",
              "\n",
              "      <script>\n",
              "        async function quickchart(key) {\n",
              "          const quickchartButtonEl =\n",
              "            document.querySelector('#' + key + ' button');\n",
              "          quickchartButtonEl.disabled = true;  // To prevent multiple clicks.\n",
              "          quickchartButtonEl.classList.add('colab-df-spinner');\n",
              "          try {\n",
              "            const charts = await google.colab.kernel.invokeFunction(\n",
              "                'suggestCharts', [key], {});\n",
              "          } catch (error) {\n",
              "            console.error('Error during call to suggestCharts:', error);\n",
              "          }\n",
              "          quickchartButtonEl.classList.remove('colab-df-spinner');\n",
              "          quickchartButtonEl.classList.add('colab-df-quickchart-complete');\n",
              "        }\n",
              "        (() => {\n",
              "          let quickchartButtonEl =\n",
              "            document.querySelector('#df-431e031f-5cb6-407d-8cf3-bfbf523833da button');\n",
              "          quickchartButtonEl.style.display =\n",
              "            google.colab.kernel.accessAllowed ? 'block' : 'none';\n",
              "        })();\n",
              "      </script>\n",
              "    </div>\n",
              "\n",
              "    </div>\n",
              "  </div>\n"
            ],
            "application/vnd.google.colaboratory.intrinsic+json": {
              "type": "dataframe",
              "variable_name": "df",
              "summary": "{\n  \"name\": \"df\",\n  \"rows\": 2307,\n  \"fields\": [\n    {\n      \"column\": \"Date\",\n      \"properties\": {\n        \"dtype\": \"date\",\n        \"min\": \"2025-01-01 00:00:00\",\n        \"max\": \"2025-03-01 00:00:00\",\n        \"num_unique_values\": 60,\n        \"samples\": [\n          \"2025-01-01 00:00:00\",\n          \"2025-01-06 00:00:00\",\n          \"2025-02-06 00:00:00\"\n        ],\n        \"semantic_type\": \"\",\n        \"description\": \"\"\n      }\n    },\n    {\n      \"column\": \"Employee_ID\",\n      \"properties\": {\n        \"dtype\": \"number\",\n        \"std\": 28,\n        \"min\": 1,\n        \"max\": 100,\n        \"num_unique_values\": 100,\n        \"samples\": [\n          92,\n          19,\n          28\n        ],\n        \"semantic_type\": \"\",\n        \"description\": \"\"\n      }\n    },\n    {\n      \"column\": \"Shift_Start\",\n      \"properties\": {\n        \"dtype\": \"category\",\n        \"num_unique_values\": 3,\n        \"samples\": [\n          \"14:00:00\",\n          \"06:00:00\",\n          \"22:00:00\"\n        ],\n        \"semantic_type\": \"\",\n        \"description\": \"\"\n      }\n    },\n    {\n      \"column\": \"Shift_End\",\n      \"properties\": {\n        \"dtype\": \"category\",\n        \"num_unique_values\": 3,\n        \"samples\": [\n          \"22:00:00\",\n          \"14:00:00\",\n          \"06:00:00\"\n        ],\n        \"semantic_type\": \"\",\n        \"description\": \"\"\n      }\n    },\n    {\n      \"column\": \"Location\",\n      \"properties\": {\n        \"dtype\": \"category\",\n        \"num_unique_values\": 4,\n        \"samples\": [\n          \"Site B\",\n          \"Site D\",\n          \"Site A\"\n        ],\n        \"semantic_type\": \"\",\n        \"description\": \"\"\n      }\n    },\n    {\n      \"column\": \"Skill_Level\",\n      \"properties\": {\n        \"dtype\": \"category\",\n        \"num_unique_values\": 3,\n        \"samples\": [\n          \"Basic\",\n          \"Advanced\",\n          \"Intermediate\"\n        ],\n        \"semantic_type\": \"\",\n        \"description\": \"\"\n      }\n    },\n    {\n      \"column\": \"Job_Role\",\n      \"properties\": {\n        \"dtype\": \"category\",\n        \"num_unique_values\": 3,\n        \"samples\": [\n          \"Cleaner\",\n          \"Supervisor\",\n          \"Technician\"\n        ],\n        \"semantic_type\": \"\",\n        \"description\": \"\"\n      }\n    },\n    {\n      \"column\": \"Workload_Demand_Site\",\n      \"properties\": {\n        \"dtype\": \"number\",\n        \"std\": 2,\n        \"min\": 5,\n        \"max\": 14,\n        \"num_unique_values\": 10,\n        \"samples\": [\n          5,\n          9,\n          7\n        ],\n        \"semantic_type\": \"\",\n        \"description\": \"\"\n      }\n    }\n  ]\n}"
            }
          },
          "metadata": {},
          "execution_count": 17
        }
      ]
    }
  ]
}